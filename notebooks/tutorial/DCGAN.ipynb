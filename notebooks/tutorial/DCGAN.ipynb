{
 "cells": [
  {
   "cell_type": "code",
   "execution_count": 4,
   "metadata": {
    "ExecuteTime": {
     "end_time": "2020-01-15T08:15:35.141660Z",
     "start_time": "2020-01-15T08:15:35.137245Z"
    }
   },
   "outputs": [],
   "source": [
    "import os\n",
    "os.environ[\"CUDA_VISIBLE_DEVICES\"] = \"-1\""
   ]
  },
  {
   "cell_type": "code",
   "execution_count": 5,
   "metadata": {
    "ExecuteTime": {
     "end_time": "2020-01-15T08:18:27.572051Z",
     "start_time": "2020-01-15T08:18:26.139003Z"
    }
   },
   "outputs": [],
   "source": [
    "import os\n",
    "os.chdir(os.path.join(os.getcwd().split('notebooks')[0], 'src'))\n",
    "\n",
    "import tensorflow as tf\n",
    "\n",
    "import glob\n",
    "import imageio\n",
    "import matplotlib.pyplot as plt\n",
    "import numpy as np\n",
    "import PIL\n",
    "from tensorflow.keras import layers\n",
    "import datetime\n",
    "import time\n",
    "\n",
    "from IPython import display"
   ]
  },
  {
   "cell_type": "markdown",
   "metadata": {},
   "source": [
    "# Load and prepare the dataset"
   ]
  },
  {
   "cell_type": "markdown",
   "metadata": {},
   "source": [
    "We'll use MNIST dataset to train the generator and the discriminator."
   ]
  },
  {
   "cell_type": "code",
   "execution_count": 6,
   "metadata": {
    "ExecuteTime": {
     "end_time": "2020-01-15T08:18:33.254840Z",
     "start_time": "2020-01-15T08:18:32.492903Z"
    }
   },
   "outputs": [],
   "source": [
    "# load data from tf.keras.datasets\n",
    "(train_images, train_labels), _ = tf.keras.datasets.mnist.load_data()\n",
    "\n",
    "# add a channel dimension\n",
    "train_images = train_images[:, :, :, np.newaxis]\n",
    "\n",
    "# normalize to [-1, 1]\n",
    "train_images = train_images / 255 - 0.5"
   ]
  },
  {
   "cell_type": "markdown",
   "metadata": {},
   "source": [
    "In TensorFlow 2, use tf.data.Dataset object as the pipeline"
   ]
  },
  {
   "cell_type": "code",
   "execution_count": 8,
   "metadata": {
    "ExecuteTime": {
     "end_time": "2020-01-15T08:18:37.115230Z",
     "start_time": "2020-01-15T08:18:36.840983Z"
    }
   },
   "outputs": [],
   "source": [
    "BUFFER_SIZE = 60000\n",
    "BATCH_SIZE = 256\n",
    "\n",
    "# batch and shuffle\n",
    "train_dataset = tf.data.Dataset.from_tensor_slices(train_images)  # from NumPy array\n",
    "train_dataset = train_dataset.shuffle(BUFFER_SIZE).batch(BATCH_SIZE)"
   ]
  },
  {
   "cell_type": "markdown",
   "metadata": {},
   "source": [
    "# Create the models"
   ]
  },
  {
   "cell_type": "markdown",
   "metadata": {},
   "source": [
    "## High-level (`tf.keras.Sequential`)"
   ]
  },
  {
   "cell_type": "markdown",
   "metadata": {},
   "source": [
    "The generator generates **an image** from **a random seed**. It uses `tf.keras.layers.Conv2DTranspose` layers to upsample."
   ]
  },
  {
   "cell_type": "code",
   "execution_count": 9,
   "metadata": {
    "ExecuteTime": {
     "end_time": "2020-01-15T08:18:38.801615Z",
     "start_time": "2020-01-15T08:18:38.791292Z"
    }
   },
   "outputs": [],
   "source": [
    "def make_generator_model():\n",
    "    model = tf.keras.Sequential([\n",
    "        \n",
    "        # (100,) -> (7*7*256,)\n",
    "        layers.Dense(7*7*256, use_bias=False, input_shape=(100,)),\n",
    "        layers.BatchNormalization(),\n",
    "        layers.LeakyReLU(),\n",
    "        \n",
    "        # (7*7*256,) -> (7, 7, 256)\n",
    "        layers.Reshape((7, 7, 256)),\n",
    "        \n",
    "        # (7, 7, 256 ) -> (7, 7, 128)\n",
    "        layers.Conv2DTranspose(128, (5, 5), strides=(1, 1), padding='same', use_bias=False),\n",
    "        layers.BatchNormalization(),\n",
    "        layers.LeakyReLU(),\n",
    "        \n",
    "        # (7, 7, 128) -> (14, 14, 64)\n",
    "        layers.Conv2DTranspose(64, (5, 5), strides=(2, 2), padding='same', use_bias=False),\n",
    "        layers.BatchNormalization(),\n",
    "        layers.LeakyReLU(),\n",
    "        \n",
    "        # (14, 14, 64) -> (28, 28, 1)\n",
    "        layers.Conv2DTranspose(1, (5, 5), strides=(2, 2), padding='same', use_bias=False),\n",
    "        \n",
    "    ])\n",
    "    \n",
    "    return model"
   ]
  },
  {
   "cell_type": "code",
   "execution_count": 10,
   "metadata": {
    "ExecuteTime": {
     "end_time": "2020-01-15T08:18:40.230085Z",
     "start_time": "2020-01-15T08:18:39.849498Z"
    }
   },
   "outputs": [
    {
     "data": {
      "text/plain": [
       "<matplotlib.image.AxesImage at 0x7f0a6017b128>"
      ]
     },
     "execution_count": 10,
     "metadata": {},
     "output_type": "execute_result"
    },
    {
     "data": {
      "image/png": "[encoded data removed]",
      "text/plain": [
       "<Figure size 432x288 with 1 Axes>"
      ]
     },
     "metadata": {
      "needs_background": "light"
     },
     "output_type": "display_data"
    }
   ],
   "source": [
    "generator = make_generator_model()\n",
    "\n",
    "noise = tf.random.normal([1, 100])\n",
    "generated_image = generator(noise, training=False)\n",
    "\n",
    "plt.imshow(generated_image[0, :, :, 0], cmap='gray')"
   ]
  },
  {
   "cell_type": "markdown",
   "metadata": {},
   "source": [
    "The discriminator is a CNN-based image **classifier**."
   ]
  },
  {
   "cell_type": "code",
   "execution_count": 11,
   "metadata": {
    "ExecuteTime": {
     "end_time": "2020-01-15T08:18:42.085214Z",
     "start_time": "2020-01-15T08:18:42.075925Z"
    }
   },
   "outputs": [],
   "source": [
    "def make_discriminator_model():\n",
    "    model = tf.keras.Sequential([\n",
    "        \n",
    "        # (28, 28, 1) -> (14, 14, 64)\n",
    "        layers.Conv2D(64, (5, 5), strides=(2, 2), padding='same', input_shape=(28, 28, 1)),\n",
    "        layers.LeakyReLU(),\n",
    "        layers.Dropout(0.3),\n",
    "        \n",
    "        # (14, 14, 64) -> (7, 7, 128)\n",
    "        layers.Conv2D(128, (5, 5), strides=(2, 2), padding='same'),\n",
    "        layers.LeakyReLU(),\n",
    "        layers.Dropout(0.3),\n",
    "        \n",
    "        # (7, 7, 128) -> (1,)\n",
    "        layers.Flatten(),\n",
    "        layers.Dense(1),\n",
    "    ])\n",
    "    \n",
    "    return model"
   ]
  },
  {
   "cell_type": "code",
   "execution_count": 12,
   "metadata": {
    "ExecuteTime": {
     "end_time": "2020-01-15T08:18:45.447511Z",
     "start_time": "2020-01-15T08:18:45.350932Z"
    }
   },
   "outputs": [
    {
     "name": "stdout",
     "output_type": "stream",
     "text": [
      "tf.Tensor([[-0.00223909]], shape=(1, 1), dtype=float32)\n"
     ]
    }
   ],
   "source": [
    "discriminator = make_discriminator_model()\n",
    "decision = discriminator(generated_image)\n",
    "print(decision)"
   ]
  },
  {
   "cell_type": "markdown",
   "metadata": {},
   "source": [
    "# Define loss and optimizers"
   ]
  },
  {
   "cell_type": "markdown",
   "metadata": {},
   "source": [
    "## Loss"
   ]
  },
  {
   "cell_type": "markdown",
   "metadata": {},
   "source": [
    "Discriminator loss quantifies how well the discriminator is able to distinguish real images from fakes. It compares:\n",
    "- the discriminator's **predictions on real images** to an array of **1s**.\n",
    "- the discriminator's **predictions on fake images** to an array of **0s**.\n",
    "\n",
    "\n",
    "Generator loss quantifies how well it was able to trick the discriminator. If the generator is performing well, the discriminator will classify the fake images as real (or 1). Here we compare the discriminator's **predictions on the fake images** to an array of **1s**."
   ]
  },
  {
   "cell_type": "code",
   "execution_count": null,
   "metadata": {
    "ExecuteTime": {
     "end_time": "2020-01-14T04:12:52.456957Z",
     "start_time": "2020-01-14T04:12:52.450606Z"
    }
   },
   "outputs": [],
   "source": [
    "# Binary cross-entropy loss as the base loss function\n",
    "cross_entropy = tf.keras.losses.BinaryCrossentropy(from_logits=True)\n",
    "\n",
    "def discriminator_loss(real_output, fake_output):\n",
    "    real_loss = cross_entropy(tf.ones_like(real_output), real_output)\n",
    "    fake_loss = cross_entropy(tf.zeros_like(fake_output), fake_output)\n",
    "    total_loss = real_loss + fake_loss\n",
    "    return total_loss\n",
    "\n",
    "def generator_loss(fake_output):\n",
    "    return cross_entropy(tf.ones_like(fake_output), fake_output)"
   ]
  },
  {
   "cell_type": "markdown",
   "metadata": {},
   "source": [
    "## Optimizer"
   ]
  },
  {
   "cell_type": "markdown",
   "metadata": {
    "ExecuteTime": {
     "end_time": "2020-01-14T03:16:10.258527Z",
     "start_time": "2020-01-14T03:16:10.252109Z"
    }
   },
   "source": [
    "The discriminator and the generator optimizers are different since we will train two networks separately."
   ]
  },
  {
   "cell_type": "code",
   "execution_count": null,
   "metadata": {
    "ExecuteTime": {
     "end_time": "2020-01-14T04:12:55.402043Z",
     "start_time": "2020-01-14T04:12:55.398641Z"
    }
   },
   "outputs": [],
   "source": [
    "generator_optimizer = tf.keras.optimizers.Adam(1e-4)\n",
    "discriminator_optimizer = tf.keras.optimizers.Adam(1e-4)"
   ]
  },
  {
   "cell_type": "markdown",
   "metadata": {},
   "source": [
    "## Metrics"
   ]
  },
  {
   "cell_type": "markdown",
   "metadata": {},
   "source": [
    "We create custom metrics to keep track of the loss and write them to TensorBoard"
   ]
  },
  {
   "cell_type": "code",
   "execution_count": null,
   "metadata": {},
   "outputs": [],
   "source": [
    "current_time = datetime.datetime.now().strftime(\"%Y%m%d-%H%M%S\")\n",
    "log_dir = 'logs/dcgan/' + current_time + '/train'\n",
    "summary_writer = tf.summary.create_file_writer(log_dir)\n",
    "\n",
    "gen_metric = tf.keras.metrics.Mean('gen_loss', dtype=tf.float32)\n",
    "dis_metric = tf.keras.metrics.Mean('dis_loss', dtype=tf.float32)"
   ]
  },
  {
   "cell_type": "markdown",
   "metadata": {},
   "source": [
    "# Training"
   ]
  },
  {
   "cell_type": "markdown",
   "metadata": {},
   "source": [
    "## Training loop"
   ]
  },
  {
   "cell_type": "markdown",
   "metadata": {},
   "source": [
    "Decorate the function to train one batch with `@tf.function` to run it in graph."
   ]
  },
  {
   "cell_type": "code",
   "execution_count": null,
   "metadata": {
    "ExecuteTime": {
     "end_time": "2020-01-14T04:55:23.015952Z",
     "start_time": "2020-01-14T04:55:22.969197Z"
    }
   },
   "outputs": [],
   "source": [
    "@tf.function\n",
    "def train_one_batch(images):\n",
    "    \n",
    "    # Create some random noise.\n",
    "    noise = tf.random.normal([BATCH_SIZE, noise_dim])\n",
    "    \n",
    "    with tf.GradientTape() as gen_tape, tf.GradientTape() as dis_tape:\n",
    "        \n",
    "        # Output of the generator\n",
    "        generated_images = generator(noise, training=True)\n",
    "        \n",
    "        # Output of the discriminator\n",
    "        real_output = discriminator(images, training=True)\n",
    "        fake_output = discriminator(generated_images, training=True)\n",
    "        \n",
    "        # Loss computation\n",
    "        gen_loss = generator_loss(fake_output)\n",
    "        dis_loss = discriminator_loss(real_output, fake_output)\n",
    "        \n",
    "        # Metric recording\n",
    "        gen_metric(gen_loss)\n",
    "        dis_metric(dis_loss)\n",
    "        \n",
    "    # Gradients\n",
    "    gen_grad = gen_tape.gradient(gen_loss, generator.trainable_variables)\n",
    "    dis_grad = dis_tape.gradient(dis_loss, discriminator.trainable_variables)\n",
    "    \n",
    "    # Apply gradients\n",
    "    generator_optimizer.apply_gradients(zip(gen_grad, generator.trainable_variables))\n",
    "    discriminator_optimizer.apply_gradients(zip(dis_grad, discriminator.trainable_variables))"
   ]
  },
  {
   "cell_type": "code",
   "execution_count": null,
   "metadata": {
    "ExecuteTime": {
     "end_time": "2020-01-14T04:55:23.212915Z",
     "start_time": "2020-01-14T04:55:23.202079Z"
    }
   },
   "outputs": [],
   "source": [
    "# Main training function.\n",
    "def train(dataset, epochs):\n",
    "    for epoch in range(epochs):\n",
    "        start = time.time()\n",
    "        \n",
    "        # Train one step.\n",
    "        for image_batch in dataset:\n",
    "            train_one_batch(image_batch)\n",
    "        \n",
    "        # Write metrics to TensorBoard.\n",
    "        with summary_writer.as_default():\n",
    "            tf.summary.scalar('gen_loss', gen_metric.result(), step=epoch)\n",
    "            tf.summary.scalar('dis_loss', dis_metric.result(), step=epoch)\n",
    "        gen_metric.reset_states()\n",
    "        dis_metric.reset_states()\n",
    "        \n",
    "        # Produce images for the GIF\n",
    "        display.clear_output(wait=True)\n",
    "        generate_and_save_images(generator, epoch + 1, test_seed)\n",
    "        \n",
    "#         # Save the model every 15 epochs.\n",
    "#         if (epoch + 1) % 15 == 0:\n",
    "#             pass\n",
    "        \n",
    "        print(f'Time for epoch {epoch + 1} is {time.time() - start} sec')\n",
    "\n",
    "    display.clear_output(wait=True)\n",
    "    generate_and_save_images(generator, epochs, test_seed)"
   ]
  },
  {
   "cell_type": "markdown",
   "metadata": {},
   "source": [
    "## Misc functions"
   ]
  },
  {
   "cell_type": "code",
   "execution_count": null,
   "metadata": {
    "ExecuteTime": {
     "end_time": "2020-01-14T04:55:24.857891Z",
     "start_time": "2020-01-14T04:55:24.848752Z"
    }
   },
   "outputs": [],
   "source": [
    "def generate_and_save_images(model, epoch, test_input):\n",
    "    \"\"\"Generate predictions and save as image\"\"\"\n",
    "    # Notice `training` is set to False.\n",
    "    # This is so all layers run in inference mode (batchnorm).\n",
    "    predictions = model(test_input, training=False)\n",
    "\n",
    "    fig = plt.figure(figsize=(4,4))\n",
    "\n",
    "    for i in range(predictions.shape[0]):\n",
    "        plt.subplot(4, 4, i+1)\n",
    "        plt.imshow(predictions[i, :, :, 0] * 127.5 + 127.5, cmap='gray')\n",
    "        plt.axis('off')\n",
    "\n",
    "    plt.savefig(f'../data/final_data/dcgan/image_at_epoch_{epoch:04d}.png')\n",
    "    plt.show()"
   ]
  },
  {
   "cell_type": "markdown",
   "metadata": {},
   "source": [
    "## Training"
   ]
  },
  {
   "cell_type": "code",
   "execution_count": null,
   "metadata": {
    "ExecuteTime": {
     "end_time": "2020-01-14T04:55:22.629285Z",
     "start_time": "2020-01-14T04:55:22.617500Z"
    }
   },
   "outputs": [],
   "source": [
    "EPOCHS = 50\n",
    "noise_dim = 100\n",
    "n_examples_to_generate = 16\n",
    "\n",
    "# reuse the same seed overtime so it's easier to visualize progress\n",
    "test_seed = tf.random.normal([n_examples_to_generate, noise_dim])"
   ]
  },
  {
   "cell_type": "code",
   "execution_count": null,
   "metadata": {},
   "outputs": [],
   "source": [
    "train(train_dataset, EPOCHS)"
   ]
  },
  {
   "cell_type": "markdown",
   "metadata": {},
   "source": [
    "# Create a GIF"
   ]
  },
  {
   "cell_type": "code",
   "execution_count": null,
   "metadata": {
    "ExecuteTime": {
     "end_time": "2020-01-14T04:38:49.139801Z",
     "start_time": "2020-01-14T04:38:49.135118Z"
    }
   },
   "outputs": [],
   "source": [
    "# Display a single image using the epoch number\n",
    "def display_image(epoch):\n",
    "    return PIL.Image.open(f'../data/final_data/dcgan/image_at_epoch_{epoch:04d}.png')"
   ]
  },
  {
   "cell_type": "code",
   "execution_count": null,
   "metadata": {
    "ExecuteTime": {
     "end_time": "2020-01-14T04:38:53.697798Z",
     "start_time": "2020-01-14T04:38:53.676480Z"
    }
   },
   "outputs": [],
   "source": [
    "display_image(132)"
   ]
  },
  {
   "cell_type": "code",
   "execution_count": null,
   "metadata": {
    "ExecuteTime": {
     "end_time": "2020-01-14T04:39:57.754018Z",
     "start_time": "2020-01-14T04:39:56.533963Z"
    }
   },
   "outputs": [],
   "source": [
    "anim_file = '../data/final_data/dcgan/dcgan.gif'\n",
    "\n",
    "with imageio.get_writer(anim_file, mode='I') as writer:\n",
    "    filenames = glob.glob('../data/final_data/dcgan/image*.png')\n",
    "    filenames = sorted(filenames)\n",
    "    last = -1\n",
    "    for i,filename in enumerate(filenames):\n",
    "        frame = 2*(i**0.5)\n",
    "#         if round(frame) > round(last):\n",
    "#             last = frame\n",
    "#         else:\n",
    "#             continue\n",
    "        image = imageio.imread(filename)\n",
    "        writer.append_data(image)\n",
    "    image = imageio.imread(filename)\n",
    "    writer.append_data(image)"
   ]
  },
  {
   "cell_type": "code",
   "execution_count": null,
   "metadata": {},
   "outputs": [],
   "source": []
  }
 ],
 "metadata": {
  "kernelspec": {
   "display_name": "Python 3",
   "language": "python",
   "name": "python3"
  },
  "language_info": {
   "codemirror_mode": {
    "name": "ipython",
    "version": 3
   },
   "file_extension": ".py",
   "mimetype": "text/x-python",
   "name": "python",
   "nbconvert_exporter": "python",
   "pygments_lexer": "ipython3",
   "version": "3.6.8"
  }
 },
 "nbformat": 4,
 "nbformat_minor": 2
}
